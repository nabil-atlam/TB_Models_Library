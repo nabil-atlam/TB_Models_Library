{
 "cells": [
  {
   "cell_type": "code",
   "execution_count": 13,
   "id": "b0787303-d30a-4244-9ae5-d26a5dc16593",
   "metadata": {
    "tags": []
   },
   "outputs": [
    {
     "name": "stdout",
     "output_type": "stream",
     "text": [
      "          √3\n",
      "3/2 n_x + ── n_y\n",
      "          2\n",
      "          -√3\n",
      "3/2 n_x + ──── n_y\n",
      "           2\n",
      "Bloch Hamiltonian:\n",
      "⎡                                    ⅈ⋅p₁       ⅈ⋅p₂     ⎤\n",
      "⎢             0                - tₐ⋅ℯ     - tₑ⋅ℯ     - tₒ⎥\n",
      "⎢                                                        ⎥\n",
      "⎢      -ⅈ⋅p₁       -ⅈ⋅p₂                                 ⎥\n",
      "⎣- tₐ⋅ℯ      - tₑ⋅ℯ      - tₒ              0             ⎦\n",
      "Eigenvalues:\n",
      "    __________________________________________________________________________________\n",
      "   ╱ ⎛    ⅈ⋅p₁       ⅈ⋅p₂     ⎞ ⎛    ⅈ⋅p₂       ⅈ⋅p₁       ⅈ⋅(p₁ + p₂)⎞  -ⅈ⋅(p₁ + p₂) \n",
      "-╲╱  ⎝tₐ⋅ℯ     + tₑ⋅ℯ     + tₒ⎠⋅⎝tₐ⋅ℯ     + tₑ⋅ℯ     + tₒ⋅ℯ           ⎠⋅ℯ             \n",
      "   __________________________________________________________________________________\n",
      "  ╱ ⎛    ⅈ⋅p₁       ⅈ⋅p₂     ⎞ ⎛    ⅈ⋅p₂       ⅈ⋅p₁       ⅈ⋅(p₁ + p₂)⎞  -ⅈ⋅(p₁ + p₂) \n",
      "╲╱  ⎝tₐ⋅ℯ     + tₑ⋅ℯ     + tₒ⎠⋅⎝tₐ⋅ℯ     + tₑ⋅ℯ     + tₒ⋅ℯ           ⎠⋅ℯ             \n"
     ]
    }
   ],
   "source": [
    "from sympy import * \n",
    "from sympy.vector import *\n",
    "from sympy.physics.vector import *\n",
    "import cryst\n",
    "\n",
    "\n",
    "# ----------------------------------------------------------------------------#\n",
    "# ---------------------- DEFINING MODEL ------------------------------------- #\n",
    "# --------------------------------------------------------------------------- #\n",
    "\n",
    "# TIGHT-BINDING MODEL FOR GRAPHENE \n",
    "\n",
    "# orthonormal system\n",
    "N = ReferenceFrame('N')\n",
    "\n",
    "# lattice vectors \n",
    "a1 = nsimplify(3/2)*N.x + (sqrt(3)/2)*N.y\n",
    "a2 = nsimplify(3/2)*N.x - (sqrt(3)/2)*N.y \n",
    "\n",
    "pprint(a1), pprint(a2)\n",
    "\n",
    "# define momentum, lattice, and model parameters\n",
    "#ndim = 2 \n",
    "ta, tb, tc, p = symbols('t\\u2090 t\\u2091 t\\u2092 p', real = True)\n",
    "\n",
    "p1, p2 = symbols('p\\u2081 p\\u2082', real = True)\n",
    "\n",
    "#p1 = Dot(p, a1)\n",
    "#p2 = Dot(p, a2)\n",
    "\n",
    "elem = -tc - ta * exp(I * p1) - tb * exp(I * p2) \n",
    "H = Matrix([[0, elem], [conjugate(elem), 0]])\n",
    "# write the Hamiltonian \n",
    "\n",
    "print(\"Bloch Hamiltonian:\")\n",
    "pprint(H)\n",
    "\n",
    "eigvals_muls = H.eigenvals()\n",
    "eigvals = list(eigvals_muls.keys())\n",
    "\n",
    "E1, E2 = eigvals[0], eigvals[1]  \n",
    "\n",
    "print(\"Eigenvalues:\")\n",
    "\n",
    "pprint(simplify(E1))\n",
    "pprint(simplify(E2))\n",
    "\n",
    "# Modify the model:\n",
    "# We study the finely tuned point in parameter space ta = tb = tc = t\n",
    "\n",
    "t = symbols('t')\n",
    "\n",
    "E1 = E1.subs(ta, t)\n",
    "E1 = E1.subs(tb, t)\n",
    "E1 = E1.subs(tc, t)\n",
    "\n",
    "E2 = E2.subs(ta, t)\n",
    "E2 = E2.subs(tb, t)\n",
    "E2 = E2.subs(tc, t)\n",
    "\n",
    "E1, E2 = simplify(E1), simplify(E2)\n",
    "\n",
    "E1, E2 = E1.as_real_imag(), E2.as_real_imag() \n",
    "#pprint(E1)\n",
    "#pprint(E2) \n",
    "\n",
    "\n",
    "\n"
   ]
  },
  {
   "cell_type": "code",
   "execution_count": 14,
   "id": "c8ca8444-7f8e-4fa7-bd99-258db13c64d4",
   "metadata": {
    "tags": []
   },
   "outputs": [],
   "source": [
    "Esquared = elem * conjugate(elem)\n"
   ]
  },
  {
   "cell_type": "code",
   "execution_count": 15,
   "id": "2d444afc-e419-445c-b99a-03713d053e40",
   "metadata": {
    "tags": []
   },
   "outputs": [
    {
     "name": "stdout",
     "output_type": "stream",
     "text": [
      "      ⅈ⋅p₁       ⅈ⋅p₂     \n",
      "- tₐ⋅ℯ     - tₑ⋅ℯ     - tₒ\n"
     ]
    }
   ],
   "source": [
    "pprint(elem)"
   ]
  },
  {
   "cell_type": "code",
   "execution_count": 16,
   "id": "0ddcc7fe-11e4-4e07-9358-d4ce466dcb77",
   "metadata": {},
   "outputs": [],
   "source": [
    "elem = elem.subs(ta, 1)\n",
    "elem = elem.subs(tb, 1)\n",
    "elem = elem.subs(tc, 1)"
   ]
  },
  {
   "cell_type": "code",
   "execution_count": 17,
   "id": "dc7cd7d5-1f82-4ade-bc97-54c93d67af7f",
   "metadata": {
    "tags": []
   },
   "outputs": [
    {
     "name": "stdout",
     "output_type": "stream",
     "text": [
      "   ⅈ⋅p₁    ⅈ⋅p₂    \n",
      "- ℯ     - ℯ     - 1\n"
     ]
    }
   ],
   "source": [
    "pprint(elem)"
   ]
  },
  {
   "cell_type": "code",
   "execution_count": 18,
   "id": "31076950-db84-444a-ad4e-b95d0d71d287",
   "metadata": {
    "tags": []
   },
   "outputs": [
    {
     "name": "stdout",
     "output_type": "stream",
     "text": [
      "⎡⎧    2⋅π      -2⋅π ⎫  ⎧    4⋅π      2⋅π⎫⎤\n",
      "⎢⎨p₁: ───, p₂: ─────⎬, ⎨p₁: ───, p₂: ───⎬⎥\n",
      "⎣⎩     3         3  ⎭  ⎩     3        3 ⎭⎦\n"
     ]
    }
   ],
   "source": [
    "# COMPUTE THE LOCUS OF ZERO MODE: THE POINTS IN BZ AT WHICH THE VALENCE AND CONDUCTION BANDS INTERSECT \n",
    "zero_mode_loci = solve(elem, dict = True)\n",
    "pprint(zero_mode_loci)"
   ]
  },
  {
   "cell_type": "code",
   "execution_count": 19,
   "id": "e5270fce-3df6-4686-925e-5bee2e16bbb5",
   "metadata": {
    "tags": []
   },
   "outputs": [],
   "source": [
    "# We find two loci. Let's compute them using cartesian basis "
   ]
  },
  {
   "cell_type": "code",
   "execution_count": 20,
   "id": "68d58509-cfe3-493f-b5dc-592b97d8aafc",
   "metadata": {},
   "outputs": [
    {
     "name": "stdout",
     "output_type": "stream",
     "text": [
      "⎧    2⋅π      -2⋅π ⎫\n",
      "⎨p₁: ───, p₂: ─────⎬\n",
      "⎩     3         3  ⎭\n"
     ]
    }
   ],
   "source": [
    "pprint(zero_mode_loci[0])"
   ]
  },
  {
   "cell_type": "code",
   "execution_count": 21,
   "id": "008c3976-67db-4eba-85c5-c7953fcee8d0",
   "metadata": {
    "tags": []
   },
   "outputs": [
    {
     "name": "stdout",
     "output_type": "stream",
     "text": [
      "2⋅√3⋅π\n",
      "────── n_y\n",
      "  3\n"
     ]
    }
   ],
   "source": [
    "# Get the first momentum point at which the band touching occurs \"Rel to K Valley\"\n",
    "K1 = zero_mode_loci[0][p1] * a1 + zero_mode_loci[0][p2] * a2  \n",
    "pprint(K1)"
   ]
  },
  {
   "cell_type": "code",
   "execution_count": 22,
   "id": "2a2fc17a-a738-490e-b164-8f1c39bf5d60",
   "metadata": {
    "tags": []
   },
   "outputs": [
    {
     "name": "stdout",
     "output_type": "stream",
     "text": [
      "          √3⋅π\n",
      "3⋅π n_x + ──── n_y\n",
      "           3\n"
     ]
    }
   ],
   "source": [
    "# Get the second momentum point at which the band touching occurs \"Rel to Kprime Valley\"\n",
    "K2 = zero_mode_loci[1][p1] * a1 + zero_mode_loci[1][p2] * a2 \n",
    "pprint(K2)"
   ]
  },
  {
   "cell_type": "code",
   "execution_count": 23,
   "id": "7923a79a-c289-4a69-9e04-e67702b8d459",
   "metadata": {},
   "outputs": [],
   "source": [
    "# Let us get the eigenvalues "
   ]
  },
  {
   "cell_type": "code",
   "execution_count": 24,
   "id": "af201f53-9899-4756-be35-9ae9d4b04d5b",
   "metadata": {},
   "outputs": [
    {
     "name": "stdout",
     "output_type": "stream",
     "text": [
      " ⅈ⋅p₁    ⅈ⋅p₁  -ⅈ⋅p₂    ⅈ⋅p₂        -ⅈ⋅p₂    -ⅈ⋅p₁  ⅈ⋅p₂    -ⅈ⋅p₁\n",
      "ℯ     + ℯ    ⋅ℯ      + ℯ     + 3 + ℯ      + ℯ     ⋅ℯ     + ℯ     \n"
     ]
    }
   ],
   "source": [
    "Esquared = Esquared.subs(ta, 1).subs(tb, 1).subs(tc, 1)\n",
    "Esquared = Esquared.expand()\n",
    "Esquared = nsimplify(Esquared)\n",
    "pprint(Esquared)"
   ]
  },
  {
   "cell_type": "code",
   "execution_count": 27,
   "id": "662132ff-377a-419c-827f-33bc20c7538f",
   "metadata": {},
   "outputs": [
    {
     "name": "stdout",
     "output_type": "stream",
     "text": [
      "2⋅cos(p₁) + 2⋅cos(p₂) + 2⋅cos(p₁ - p₂) + 3\n"
     ]
    }
   ],
   "source": [
    "Esquared = Esquared.as_real_imag()[0].simplify()\n",
    "pprint(Esquared)"
   ]
  },
  {
   "cell_type": "code",
   "execution_count": 28,
   "id": "4569059d-b15c-4438-b337-550a276b7121",
   "metadata": {},
   "outputs": [
    {
     "name": "stdout",
     "output_type": "stream",
     "text": [
      "  ____________________________________________\n",
      "╲╱ 2⋅cos(p₁) + 2⋅cos(p₂) + 2⋅cos(p₁ - p₂) + 3 \n"
     ]
    }
   ],
   "source": [
    "E_mag = sqrt(Esquared)\n",
    "pprint(E_mag)"
   ]
  },
  {
   "cell_type": "code",
   "execution_count": null,
   "id": "06007f42-8344-466c-9957-703fd2e42733",
   "metadata": {},
   "outputs": [],
   "source": []
  }
 ],
 "metadata": {
  "kernelspec": {
   "display_name": "Python 3 (ipykernel)",
   "language": "python",
   "name": "python3"
  },
  "language_info": {
   "codemirror_mode": {
    "name": "ipython",
    "version": 3
   },
   "file_extension": ".py",
   "mimetype": "text/x-python",
   "name": "python",
   "nbconvert_exporter": "python",
   "pygments_lexer": "ipython3",
   "version": "3.9.6"
  }
 },
 "nbformat": 4,
 "nbformat_minor": 5
}
